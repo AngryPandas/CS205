{
 "cells": [
  {
   "cell_type": "markdown",
   "metadata": {
    "collapsed": true
   },
   "source": [
    "###The following file shows the serialized version of labeling our pictures"
   ]
  },
  {
   "cell_type": "code",
   "execution_count": null,
   "metadata": {
    "collapsed": true
   },
   "outputs": [],
   "source": [
    "#here we imported opencv\n",
    "import cv2\n",
    "import numpy as np\n",
    "import glob\n",
    "WINDOW_SIZE=20\n",
    "STEP_SIZE=10"
   ]
  },
  {
   "cell_type": "markdown",
   "metadata": {},
   "source": [
    "####read all images' information\n",
    "\n",
    "all images' informations have been passed into correspondent place"
   ]
  },
  {
   "cell_type": "code",
   "execution_count": 2,
   "metadata": {
    "collapsed": true
   },
   "outputs": [],
   "source": [
    "img_path = '/Users/xdai/colored50/*.jpg'\n",
    "images = glob.glob(img_path)\n",
    "img_dict={}\n",
    "\n",
    "for img_p in images:\n",
    "    k = img_p[img_p.find('50/',)+3:-4]\n",
    "    img_dict[k] = cv2.imread(img_p, cv2.IMREAD_COLOR)"
   ]
  },
  {
   "cell_type": "code",
   "execution_count": 4,
   "metadata": {
    "collapsed": true
   },
   "outputs": [],
   "source": [
    "#read only_blue color into the variable\n",
    "only_blue = cv2.imread('/Users/xdai/colored50/only_blue.jpg')\n",
    "#as the only blue is not pure, we will have to pick the blue pixel out of it\n",
    "blue_pixel_rgb = only_blue[100][1]"
   ]
  },
  {
   "cell_type": "markdown",
   "metadata": {},
   "source": [
    "####The picture size\n",
    "\n",
    "The picture size we used contain 200 * 200 pixels, the following result proves this. Each pixel is a three-element array"
   ]
  },
  {
   "cell_type": "code",
   "execution_count": 25,
   "metadata": {
    "collapsed": false
   },
   "outputs": [
    {
     "name": "stdout",
     "output_type": "stream",
     "text": [
      "(200, 200, 3)\n"
     ]
    }
   ],
   "source": [
    "print only_blue.shape"
   ]
  },
  {
   "cell_type": "markdown",
   "metadata": {},
   "source": [
    "#### Sliding window\n",
    "\n",
    "We slides our window through the picture, each window has 20 * 20 pixels, and is stored in the colored_set dict.\n",
    "\n",
    "The colored_set has the format:\n",
    "\n",
    "keys - location of the windows\n",
    "\n",
    "Values - the image information"
   ]
  },
  {
   "cell_type": "code",
   "execution_count": 55,
   "metadata": {
    "collapsed": false
   },
   "outputs": [],
   "source": [
    "def sliding_window(image, stepSize, windowSize):\n",
    "    colored_set = {}\n",
    "    for y in xrange(0, image.shape[0], stepSize):\n",
    "        for x in xrange(0, image.shape[1], stepSize):\n",
    "            colored_set[(x,y)] = image[y:y + windowSize[1], x:x + windowSize[0]]\n",
    "    return colored_set"
   ]
  },
  {
   "cell_type": "code",
   "execution_count": 56,
   "metadata": {
    "collapsed": false
   },
   "outputs": [],
   "source": [
    "small_img_dict = dict()\n",
    "for k in img_dict.keys():\n",
    "    img = img_dict[k]\n",
    "    small_images = sliding_window(img, STEP_SIZE, (WINDOW_SIZE, WINDOW_SIZE)) #windows per image\n",
    "    small_img_dict[k] = small_images\n",
    "    "
   ]
  },
  {
   "cell_type": "markdown",
   "metadata": {},
   "source": [
    "####Format of small_img_dict\n",
    "\n",
    "In the small_img_dict, it containes all small window in one image. As we have designed, the keys of this dictionary is the \"image index\", the value of the dictionary is its correspondent information\n",
    "\n",
    "The values in this dictionary are also dictionarys form, keys of which are location of the window, and values are pixels in that small window. The size of pixels shall be 400\n",
    "\n",
    "The following code proves that each window contains 20 * 20 pixels"
   ]
  },
  {
   "cell_type": "code",
   "execution_count": 79,
   "metadata": {
    "collapsed": false
   },
   "outputs": [
    {
     "name": "stdout",
     "output_type": "stream",
     "text": [
      "(20, 20, 3)\n"
     ]
    }
   ],
   "source": [
    "print small_img_dict['1046'][(30,60)].shape"
   ]
  },
  {
   "cell_type": "markdown",
   "metadata": {},
   "source": [
    "### Is our window blue or not?\n",
    "\n",
    "In order to differenciate if the window is blue or not, we first check the 400 pixels in the window. The algorithm is to see if each pixel is blue or not, if blue pixels occupy over 50% of the whole window, we will label it as true, otherwise, false will be labeled\n",
    "\n",
    "The following blue_pixel_rgb will be used for comparing"
   ]
  },
  {
   "cell_type": "code",
   "execution_count": 100,
   "metadata": {
    "collapsed": false
   },
   "outputs": [
    {
     "name": "stdout",
     "output_type": "stream",
     "text": [
      "<type 'numpy.ndarray'>\n"
     ]
    }
   ],
   "source": [
    "print type(blue_pixel_rgb)"
   ]
  },
  {
   "cell_type": "code",
   "execution_count": 163,
   "metadata": {
    "collapsed": false
   },
   "outputs": [],
   "source": [
    "#the compute_blue function will take the small window as the variable and process it\n",
    "#the window contains the 20 * 20 pixels\n",
    "def compute_blue(window):\n",
    "    #the counter here will be used to check how many pixels are blue\n",
    "    counter = 0\n",
    "    #loop over 400 small pixels\n",
    "    for y in xrange(20):\n",
    "        for x in xrange(20):\n",
    "            if (window[x,y] == blue_pixel_rgb).all():\n",
    "                counter += 1\n",
    "    return (counter >= 200)"
   ]
  },
  {
   "cell_type": "code",
   "execution_count": 164,
   "metadata": {
    "collapsed": false
   },
   "outputs": [],
   "source": [
    "#here we read all index in the dictionary, and extract it's correspondent value\n",
    "keys = small_img_dict.keys()\n",
    "all_image = {}\n",
    "for image_index in keys:   \n",
    "    window_blue_dict = {}\n",
    "    small_image = small_img_dict[image_index] #small_img_dict : k='1026', v='(0,0):[[...]]'\n",
    "    #here we pass our window's pixels to the compute_blue function and determine if the window is blue/or not\n",
    "    for y in xrange(0, 200, 20):\n",
    "        for x in xrange(0, 200, 20):\n",
    "            window_blue_dict[(x,y)] = compute_blue(small_image[x,y]) # passing \n",
    "    all_image[image_index] = window_blue_dict"
   ]
  },
  {
   "cell_type": "markdown",
   "metadata": {},
   "source": [
    "###Results\n",
    "\n",
    "All results are stored in all_image dictionary.\n",
    "\n",
    "Keys-the image index\n",
    "\n",
    "Values - location and if it's blue\n",
    "\n",
    "From the resule before, we see, 1046 image contains many blue parts, but most of them are non-blue parts which make sense.\n",
    "\n",
    "However, we do need to decide the criterias for us to determine if it's blue or not(as of right now, it will be true if the counter > 50)"
   ]
  },
  {
   "cell_type": "code",
   "execution_count": 165,
   "metadata": {
    "collapsed": false
   },
   "outputs": [
    {
     "name": "stdout",
     "output_type": "stream",
     "text": [
      "{(0, 20): False, (20, 20): False, (60, 100): False, (40, 60): False, (20, 0): False, (0, 180): False, (80, 40): False, (100, 180): False, (80, 100): False, (100, 40): False, (180, 160): False, (60, 160): False, (120, 180): False, (120, 80): True, (120, 120): True, (120, 100): True, (0, 80): False, (60, 120): False, (160, 0): False, (100, 80): False, (100, 140): True, (20, 180): False, (80, 180): False, (140, 120): True, (80, 0): False, (180, 40): False, (20, 100): False, (80, 140): False, (160, 40): False, (160, 20): False, (180, 20): False, (80, 60): False, (40, 40): False, (40, 20): False, (140, 100): True, (120, 140): True, (0, 140): False, (140, 0): False, (60, 180): False, (140, 180): False, (100, 120): True, (100, 20): False, (80, 120): False, (40, 0): False, (40, 140): False, (140, 140): True, (80, 80): False, (60, 0): False, (40, 80): False, (160, 160): False, (160, 80): True, (180, 120): False, (60, 60): False, (40, 180): False, (0, 0): False, (80, 20): False, (60, 140): False, (20, 80): False, (0, 160): False, (20, 40): False, (180, 0): False, (0, 100): False, (140, 60): True, (160, 60): False, (40, 120): False, (0, 40): False, (20, 60): False, (100, 100): False, (160, 140): False, (80, 160): False, (120, 20): False, (0, 60): False, (120, 40): False, (180, 180): False, (60, 20): False, (180, 140): False, (140, 40): False, (160, 120): False, (20, 140): False, (60, 80): False, (40, 160): False, (120, 60): True, (160, 100): False, (100, 160): False, (40, 100): False, (100, 60): False, (20, 120): False, (140, 160): False, (0, 120): False, (60, 40): False, (140, 20): False, (140, 80): True, (180, 80): False, (120, 0): False, (100, 0): False, (180, 60): False, (160, 180): False, (120, 160): True, (180, 100): False, (20, 160): False}\n"
     ]
    }
   ],
   "source": [
    "print all_image['1046']"
   ]
  },
  {
   "cell_type": "code",
   "execution_count": 166,
   "metadata": {
    "collapsed": false
   },
   "outputs": [],
   "source": [
    "# all_image['1046'][(140, 60)]\n",
    "# cv2.imshow(\"Faces found\", image)\n",
    "x_coord=[]\n",
    "y_coord=[]\n",
    "for ((x, y), v) in all_image['1046'].items():\n",
    "    if v:\n",
    "        x_coord.append(x)\n",
    "        y_coord.append(y)\n",
    "        \n",
    "xmin = np.min(x_coord)\n",
    "ymin = np.min(y_coord)\n",
    "xmax = np.max(x_coord)\n",
    "ymax = np.max(y_coord)"
   ]
  },
  {
   "cell_type": "code",
   "execution_count": 167,
   "metadata": {
    "collapsed": true
   },
   "outputs": [],
   "source": [
    "cv2.imshow(\"test\", img_dict['1046'][ymin:ymax, xmin:xmax])\n",
    "cv2.waitKey(0)\n",
    "cv2.destroyAllWindows()"
   ]
  },
  {
   "cell_type": "code",
   "execution_count": null,
   "metadata": {
    "collapsed": true
   },
   "outputs": [],
   "source": []
  }
 ],
 "metadata": {
  "kernelspec": {
   "display_name": "Python 2",
   "language": "python",
   "name": "python2"
  },
  "language_info": {
   "codemirror_mode": {
    "name": "ipython",
    "version": 2
   },
   "file_extension": ".py",
   "mimetype": "text/x-python",
   "name": "python",
   "nbconvert_exporter": "python",
   "pygments_lexer": "ipython2",
   "version": "2.7.10"
  }
 },
 "nbformat": 4,
 "nbformat_minor": 0
}
