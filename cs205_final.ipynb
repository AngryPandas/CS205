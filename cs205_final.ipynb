{
 "cells": [
  {
   "cell_type": "markdown",
   "metadata": {},
   "source": [
    "## CS205: Bees? Bees!\n",
    "\n",
    "Team members: Xingchi Dai, Jeewon Hwang, Xiaowen Chang\n"
   ]
  },
  {
   "cell_type": "code",
   "execution_count": null,
   "metadata": {
    "collapsed": true
   },
   "outputs": [],
   "source": [
    "\n",
    "import numpy as np\n",
    "import pandas as pd\n",
    "import scipy.stats as stats\n",
    "import matplotlib.pyplot as plt\n",
    "import sklearn\n",
    "import statsmodels.api as sm\n",
    "\n",
    "import seaborn as sns\n",
    "sns.set_style(\"whitegrid\")\n",
    "sns.set_context(\"poster\")\n",
    "\n",
    "# special matplotlib argument for improved plots\n",
    "from matplotlib import rcParams"
   ]
  },
  {
   "cell_type": "code",
   "execution_count": 2,
   "metadata": {
    "collapsed": true
   },
   "outputs": [],
   "source": [
    "#read the csv file\n",
    "train = pd.read_csv('/Users/xdai/Desktop/training_labels.csv')"
   ]
  },
  {
   "cell_type": "code",
   "execution_count": 6,
   "metadata": {
    "collapsed": false
   },
   "outputs": [
    {
     "name": "stdout",
     "output_type": "stream",
     "text": [
      "<class 'pandas.core.frame.DataFrame'>\n",
      "(3969, 2)\n"
     ]
    }
   ],
   "source": [
    "print type(train)\n",
    "print train.shape"
   ]
  },
  {
   "cell_type": "code",
   "execution_count": 8,
   "metadata": {
    "collapsed": false
   },
   "outputs": [],
   "source": [
    "#now we choose 50 images randomly\n",
    "\n",
    "sampledf = train.sample(50)"
   ]
  },
  {
   "cell_type": "code",
   "execution_count": 9,
   "metadata": {
    "collapsed": false
   },
   "outputs": [
    {
     "data": {
      "text/plain": [
       "(50, 2)"
      ]
     },
     "execution_count": 9,
     "metadata": {},
     "output_type": "execute_result"
    }
   ],
   "source": [
    "sampledf.shape"
   ]
  },
  {
   "cell_type": "markdown",
   "metadata": {},
   "source": [
    "###Here we sampled 50 images\n",
    "Xingchi will label the first 20 images\n",
    "\n",
    "Jeewon will label the next 15 images\n",
    "\n",
    "Crystal will lebel the last 15 images"
   ]
  },
  {
   "cell_type": "code",
   "execution_count": 10,
   "metadata": {
    "collapsed": false
   },
   "outputs": [
    {
     "name": "stdout",
     "output_type": "stream",
     "text": [
      "        id  genus\n",
      "3573  3649      1\n",
      "779   1130      1\n",
      "3467   431      1\n",
      "2255   485      1\n",
      "2235  3313      1\n",
      "3563  3743      1\n",
      "3556  2861      0\n",
      "3961  3573      1\n",
      "2661  4156      1\n",
      "2932   879      1\n",
      "3902   438      0\n",
      "525   3844      0\n",
      "1997  4454      0\n",
      "2509   114      0\n",
      "2678  1046      1\n",
      "2797  2524      1\n",
      "2194  2213      1\n",
      "2747   371      0\n",
      "780   2747      1\n",
      "1018   920      1\n",
      "245   3490      0\n",
      "1785  3344      0\n",
      "2231  4216      1\n",
      "2798  4413      0\n",
      "191    395      1\n",
      "1370  3194      1\n",
      "236    940      1\n",
      "2089  4507      1\n",
      "3042  4052      1\n",
      "2805    99      0\n",
      "2494  2401      1\n",
      "2268  1474      1\n",
      "2725  2085      1\n",
      "2653  3178      1\n",
      "267   4566      1\n",
      "3379  3713      1\n",
      "408   4117      1\n",
      "2360  4148      1\n",
      "1438  4703      1\n",
      "2290   952      1\n",
      "2374  2964      1\n",
      "1309   725      0\n",
      "13    3524      1\n",
      "849   3478      1\n",
      "2992  2614      0\n",
      "500   4588      1\n",
      "3442  3012      1\n",
      "341   1372      1\n",
      "3370  4654      0\n",
      "1243   747      1\n"
     ]
    }
   ],
   "source": [
    "print sampledf"
   ]
  },
  {
   "cell_type": "code",
   "execution_count": null,
   "metadata": {
    "collapsed": true
   },
   "outputs": [],
   "source": []
  }
 ],
 "metadata": {
  "kernelspec": {
   "display_name": "Python 2",
   "language": "python",
   "name": "python2"
  },
  "language_info": {
   "codemirror_mode": {
    "name": "ipython",
    "version": 2
   },
   "file_extension": ".py",
   "mimetype": "text/x-python",
   "name": "python",
   "nbconvert_exporter": "python",
   "pygments_lexer": "ipython2",
   "version": "2.7.10"
  }
 },
 "nbformat": 4,
 "nbformat_minor": 0
}
